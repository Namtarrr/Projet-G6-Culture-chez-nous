{
 "cells": [
  {
   "cell_type": "markdown",
   "id": "2b70c1aa-b438-4f9c-b2f5-2a143ef086f0",
   "metadata": {},
   "source": [
    "# Traitement calcul concentration\n"
   ]
  },
  {
   "cell_type": "code",
   "execution_count": 36,
   "id": "55f818f0-0217-4fd4-b47f-c83742c1702e",
   "metadata": {},
   "outputs": [],
   "source": [
    "import pandas as pd\n",
    "import numpy as np"
   ]
  },
  {
   "cell_type": "markdown",
   "id": "f3df76f6-8e56-427d-b33f-0c71c7e06506",
   "metadata": {},
   "source": [
    "## Chargement data"
   ]
  },
  {
   "cell_type": "code",
   "execution_count": 37,
   "id": "4150e967-6696-435c-a218-96484dbd07a8",
   "metadata": {},
   "outputs": [],
   "source": [
    "archives = pd.read_csv(\"data_propre/ARCHIVES_DATA_TABLE.csv\", sep=\";\")\n",
    "bat = pd.read_csv(\"data_propre/BATIMENT_MONUMENT_DATA_TABLE.csv\", sep=\",\")\n",
    "biblio = pd.read_csv(\"data_propre/BIBLIOTHEQUE_DATA_TABLE.csv\", sep=\";\")\n",
    "festivals = pd.read_csv(\"data_propre/FESTIVALS_DATA_TABLE.csv\", sep=\";\")\n",
    "cine=pd.read_csv(\"data_propre/CINEMA_DATA_TABLE.csv\", sep=\";\")\n",
    "musee=pd.read_csv(\"data_propre/MUSEE_DATA_TABLE.csv\", sep=\";\")\n",
    "theatre=pd.read_csv(\"data_propre/THEATRE_DATA_TABLE.csv\", sep=\";\")\n",
    "\n",
    "dept= pd.read_csv(\"data_propre/DEPARTEMENT_DATA_TABLE.csv\", sep=\";\")\n",
    "communes = pd.read_csv(\"data_propre/COMMUNE_DATA_TABLE.csv\", sep=\",\")"
   ]
  },
  {
   "cell_type": "markdown",
   "id": "4d7a174d-bca4-47d7-a2da-63413f976971",
   "metadata": {},
   "source": [
    "## Uniformisation data"
   ]
  },
  {
   "cell_type": "code",
   "execution_count": 38,
   "id": "16814cb1-7b42-482c-b4ca-b517d8a68dad",
   "metadata": {},
   "outputs": [],
   "source": [
    "def transfo(df):\n",
    "    df[\"CP\"] = df[\"CP\"].astype(str).str.zfill(5)\n",
    "    df['COMMUNE'] = df['COMMUNE'].str.upper()\n",
    "    df[\"COMMUNE\"]=df[\"COMMUNE\"].replace(\"\\'\", \"-\", regex=False)\n",
    "    df[\"COMMUNE\"]=df[\"COMMUNE\"].replace(r'\\bST\\b', 'SAINT', regex=True)\n",
    "    df[\"COMMUNE\"]=df[\"COMMUNE\"].replace(r'\\bSTE\\b', 'SAINT', regex=True)\n",
    "    df[\"COMMUNE\"]=df[\"COMMUNE\"].replace(r'\\bHT\\b', 'HAUT', regex=True)\n",
    "    df[\"COMMUNE\"]=df[\"COMMUNE\"].replace(r'\\b&\\b', 'ET', regex=True)\n",
    "    return(df)"
   ]
  },
  {
   "cell_type": "code",
   "execution_count": 39,
   "id": "ab8d5df4-cb6a-4f66-a7db-e2d5add55a3d",
   "metadata": {},
   "outputs": [],
   "source": [
    "archives = transfo(archives)\n",
    "bat = transfo(bat)\n",
    "biblio =transfo(biblio)\n",
    "festivals = transfo(festivals)\n",
    "cine=transfo(cine)\n",
    "musee=transfo(musee)\n",
    "theatre=transfo(theatre)\n",
    "\n",
    "arch_res = archives[['CP', 'NOM','Type', 'LATTI', 'LONGI', 'COMMUNE']]\n",
    "bat_res = bat[['CP','NOM', 'TYPE', 'LATTI', 'LONGI', 'COMMUNE']]\n",
    "biblio_res = biblio[['CP','NOM', 'SOUS_TYPE', 'LATTI', 'LONGI', 'COMMUNE']]\n",
    "fest_res = festivals[['CP','NOM', 'SOUS_TYPE', 'LATTI', 'LONGI', 'COMMUNE']]\n",
    "cine_res = cine[['CP','NOM', 'SOUS_TYPE', 'LATTI', 'LONGI', 'COMMUNE']]\n",
    "musee_res = musee[['CP','NOM', 'SOUS_TYPE', 'LATTI', 'LONGI', 'COMMUNE']]\n",
    "theatre_res = theatre[['CP','NOM', 'SOUS_TYPE', 'LATTI', 'LONGI', 'COMMUNE']]"
   ]
  },
  {
   "cell_type": "markdown",
   "id": "f0f948f6-d4b9-4171-bdd9-5a483d818fe0",
   "metadata": {},
   "source": [
    "## Calcul Concentration Departements"
   ]
  },
  {
   "cell_type": "code",
   "execution_count": 40,
   "id": "89ef65d0-c001-4945-a144-8ea5a4328d31",
   "metadata": {},
   "outputs": [],
   "source": [
    "def extraire_numero_departement(code_postal):\n",
    "    if code_postal.startswith((\"97\", \"98\")):  # Cas des départements à trois chiffres\n",
    "        return code_postal[:3]\n",
    "    return code_postal[:2]  # Cas général pour les deux premiers chiffres"
   ]
  },
  {
   "cell_type": "code",
   "execution_count": 41,
   "id": "8567f4c2-dd48-4c45-99a0-03fa61180486",
   "metadata": {},
   "outputs": [],
   "source": [
    "dept[\"numdep\"]=dept[\"numdep\"].astype(\"str\")\n",
    "liste_dep=dept[\"numdep\"].unique()\n",
    "liste_dep = [\"20\" if element == \"2A\" or element == \"2B\" else element for element in liste_dep]\n",
    "df = pd.DataFrame(liste_dep, columns=[\"DEP\"])"
   ]
  },
  {
   "cell_type": "code",
   "execution_count": null,
   "id": "09bf20bb-8b54-45fd-8e04-cbdd9b7d28eb",
   "metadata": {},
   "outputs": [],
   "source": [
    "#concatenation des toutes les offres\n",
    "tt_donnee = pd.concat([arch_res, bat_res, biblio_res, fest_res, cine_res, musee_res, theatre_res], axis=0)\n",
    "tt_donnee[\"CP\"] = tt_donnee[\"CP\"].astype(str).str.zfill(5)\n",
    "tt_donnee[\"DEP\"] = tt_donnee[\"CP\"].apply(extraire_numero_departement)\n",
    "\n",
    "#calcul des evenements\n",
    "evenements_par_departement = tt_donnee.groupby(\"DEP\").size().reset_index(name=\"NombreEvenements\")\n",
    "\n",
    "#jointure\n",
    "df = df.merge(evenements_par_departement, on=\"DEP\", how=\"left\")\n",
    "df[\"Concentration\"]=1000*df[\"NombreEvenements\"]/df[\"Population\"]"
   ]
  },
  {
   "cell_type": "markdown",
   "id": "f05300fc-41d7-4a3d-8fa9-390cca44e859",
   "metadata": {},
   "source": [
    "### Gestion des Nan"
   ]
  },
  {
   "cell_type": "code",
   "execution_count": null,
   "id": "0fe87ead-76d0-4a51-a7f6-f2eaac612aa1",
   "metadata": {},
   "outputs": [],
   "source": [
    "df[\"Concentration\"] = df[\"Concentration\"].fillna(0)\n",
    "nan_count = df.isna().sum()\n",
    "print(nan_count)\n",
    "df.to_csv(\"Concentration_dep.csv\")"
   ]
  },
  {
   "cell_type": "markdown",
   "id": "21defebf-04ec-4fe1-a411-65ad2ce722bc",
   "metadata": {},
   "source": [
    "## Calcul Concentration Communes"
   ]
  },
  {
   "cell_type": "code",
   "execution_count": 44,
   "id": "25c78db3-88c9-4de0-8ed4-a241a233b835",
   "metadata": {},
   "outputs": [],
   "source": [
    "#Agregation\n",
    "evenements_par_commune = tt_donnee.groupby([\"CP\", \"COMMUNE\"]).size().reset_index(name=\"NombreEvenements\")\n",
    "communes = pd.read_csv(\"data_propre/COMMUNE_DATA_TABLE_1.csv\", sep=\",\")\n",
    "df=communes\n",
    "df[\"CP\"]=df[\"CP\"].astype(str).str.zfill(5)"
   ]
  },
  {
   "cell_type": "code",
   "execution_count": null,
   "id": "831915ef-7324-47da-993c-e3d816a9c4f2",
   "metadata": {},
   "outputs": [],
   "source": [
    "#jointure\n",
    "communes = df.rename(columns={'NOM': 'COMMUNE'})\n",
    "df = communes.merge(evenements_par_commune, on=[\"CP\", \"COMMUNE\"], how=\"left\")\n",
    "\n",
    "#calcul de la concentration\n",
    "df[\"Concentration\"]=1000*df[\"NombreEvenements\"]/df[\"Population\"]\n",
    "\n"
   ]
  },
  {
   "cell_type": "markdown",
   "id": "c4b9339d-f9cc-44d9-a922-db74bbf095ec",
   "metadata": {},
   "source": [
    "### Gestion des Nan et valeurs infinies"
   ]
  },
  {
   "cell_type": "code",
   "execution_count": null,
   "id": "975fb998-f2f9-4d42-be05-1ce3f131202b",
   "metadata": {},
   "outputs": [],
   "source": [
    "df[\"Concentration\"] = df[\"Concentration\"].fillna(0)\n",
    "nan_count = df.isna().sum()\n",
    "print(nan_count)\n",
    "df[\"Concentration\"] = df[\"Concentration\"].replace([np.inf, -np.inf], 0)"
   ]
  },
  {
   "cell_type": "markdown",
   "id": "d456f905-45f7-4c59-b433-51c432e585a4",
   "metadata": {},
   "source": [
    "### Visualisation des grandes valeurs"
   ]
  },
  {
   "cell_type": "code",
   "execution_count": null,
   "id": "777a8bd6-f953-4304-8678-ce8a9f275111",
   "metadata": {},
   "outputs": [],
   "source": [
    "test=df[df[\"Concentration\"]>=100]\n",
    "test"
   ]
  },
  {
   "cell_type": "markdown",
   "id": "1ba535d6-ab78-426e-8724-5fe79fe98180",
   "metadata": {},
   "source": [
    "### telechargement donées"
   ]
  },
  {
   "cell_type": "code",
   "execution_count": null,
   "id": "20c29d1f-d537-4e27-b4ea-a1fac89d73b0",
   "metadata": {},
   "outputs": [],
   "source": [
    "df = df.rename(columns={ 'COMMUNE': 'NOM'})\n",
    "df.to_csv(\"Concentration_communes.csv\")"
   ]
  },
  {
   "cell_type": "markdown",
   "id": "d9fd25cd-d3c3-4d25-b62c-bacb8e50a40f",
   "metadata": {},
   "source": [
    "## Ajout des coordonnées des communes manquantes"
   ]
  },
  {
   "cell_type": "markdown",
   "id": "6d1a6919-376d-4632-9c6d-3908ec11cb25",
   "metadata": {},
   "source": [
    "### Chargement des données"
   ]
  },
  {
   "cell_type": "code",
   "execution_count": null,
   "id": "8359237e-08b3-4fa3-9fad-4b1f347acc3a",
   "metadata": {},
   "outputs": [],
   "source": [
    "communes_rempli = pd.read_csv(\"data/correspondance-code-insee-code-postal.csv\",sep=\";\")\n",
    "\n",
    "\n",
    "#Compter les valeurs manquantes à ajouter\n",
    "nan_count = communes.isna().sum()\n",
    "print(nan_count)\n",
    "\n",
    "communes[\"CP\"]=communes[\"CP\"].astype('str').apply(lambda x: x.zfill(5))\n"
   ]
  },
  {
   "cell_type": "markdown",
   "id": "69747155-ed47-449d-86be-7d5e696c0729",
   "metadata": {},
   "source": [
    "### Uniformisation data"
   ]
  },
  {
   "cell_type": "code",
   "execution_count": null,
   "id": "c0ed3f07-0a93-43c5-a263-68aad74e7676",
   "metadata": {},
   "outputs": [],
   "source": [
    "communes_rempli[\"Code Postal\"]=communes_rempli[\"Code Postal\"].astype('str').apply(lambda x: x.zfill(5))\n",
    "communes_rempli[\"Commune\"]=communes_rempli[\"Commune\"].replace(\"\\'\", \"-\", regex=False)\n",
    "communes_rempli[\"Commune\"]=communes_rempli[\"Commune\"].replace(r'\\bST\\b', 'SAINT', regex=True)\n",
    "communes_rempli[\"Commune\"]=communes_rempli[\"Commune\"].replace(r'\\bSTE\\b', 'SAINT', regex=True)\n",
    "communes_rempli[\"Commune\"]=communes_rempli[\"Commune\"].replace(r'\\bHT\\b', 'HAUT', regex=True)\n",
    "communes_rempli[\"Commune\"]=communes_rempli[\"Commune\"].replace(r'\\b&\\b', 'ET', regex=True)\n",
    "communes_rempli[['LATTI', 'LONGI']] = communes_rempli['geo_point_2d'].str.split(',', expand=True)\n",
    "communes_rempli= communes_rempli.drop('geo_point_2d', axis=1)"
   ]
  },
  {
   "cell_type": "markdown",
   "id": "7ea21c2d-d7a0-4749-b2f7-0e437d31dd76",
   "metadata": {},
   "source": [
    "### ajout des lattitude longitude manquante et geoshape"
   ]
  },
  {
   "cell_type": "code",
   "execution_count": null,
   "id": "55a7226c-8140-4e45-b5a0-46415d0c2356",
   "metadata": {},
   "outputs": [],
   "source": [
    "# Assurez-vous que les colonnes clés ont le même format\n",
    "communes[\"CP\"] = communes[\"CP\"].astype(str).apply(lambda x: x.zfill(5))\n",
    "communes[\"NOM\"] = communes[\"NOM\"].str.strip()\n",
    "\n",
    "communes_rempli[\"Code Postal\"] = communes_rempli[\"Code Postal\"].astype(str).apply(lambda x: x.zfill(5))\n",
    "communes_rempli[\"Commune\"] = communes_rempli[\"Commune\"].str.strip()\n",
    "\n",
    "# Merge sur les colonnes communes pour récupérer LATTI, LONGI, et geo_shape\n",
    "merged = communes.merge(\n",
    "    communes_rempli[[\"Code Postal\", \"Commune\", \"LATTI\", \"LONGI\", \"geo_shape\"]],\n",
    "    left_on=[\"CP\", \"NOM\"],\n",
    "    right_on=[\"Code Postal\", \"Commune\"],\n",
    "    how=\"left\",\n",
    "    suffixes=('', '_new')\n",
    ")\n",
    "\n",
    "# Compléter les valeurs manquantes\n",
    "communes[\"LATTI\"] = communes[\"LATTI\"].fillna(merged[\"LATTI_new\"])\n",
    "communes[\"LONGI\"] = communes[\"LONGI\"].fillna(merged[\"LONGI_new\"])\n",
    "communes[\"geoshape\"] = communes[\"geoshape\"].fillna(merged[\"geo_shape\"])\n",
    "\n",
    "# Vérification finale des valeurs manquantes\n",
    "nan_count = communes.isna().sum()\n",
    "print(\"Valeurs manquantes après traitement :\")\n",
    "print(nan_count)\n",
    "\n",
    "\n"
   ]
  },
  {
   "cell_type": "markdown",
   "id": "238479f4-986f-4ba9-85cf-decd5b059977",
   "metadata": {},
   "source": [
    "### Transformation en fichier csv"
   ]
  },
  {
   "cell_type": "code",
   "execution_count": null,
   "id": "bbc33bbb-e6ea-43fa-b7e2-18a17ae44288",
   "metadata": {},
   "outputs": [],
   "source": [
    "print(df1[[\"LATTI\", \"LONGI\", \"geoshape\"]].head())\n",
    "df1.to_csv(\"test.csv\")"
   ]
  }
 ],
 "metadata": {
  "kernelspec": {
   "display_name": "Python 3 (ipykernel)",
   "language": "python",
   "name": "python3"
  },
  "language_info": {
   "codemirror_mode": {
    "name": "ipython",
    "version": 3
   },
   "file_extension": ".py",
   "mimetype": "text/x-python",
   "name": "python",
   "nbconvert_exporter": "python",
   "pygments_lexer": "ipython3",
   "version": "3.9.18"
  }
 },
 "nbformat": 4,
 "nbformat_minor": 5
}
